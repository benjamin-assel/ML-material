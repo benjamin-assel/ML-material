{
 "cells": [
  {
   "cell_type": "markdown",
   "metadata": {},
   "source": [
    "In this kernel we train an LSTM model to predict sentiments (binary targets 0-1) from small texts (a few sentences per texts), using Keras."
   ]
  },
  {
   "cell_type": "code",
   "execution_count": 1,
   "metadata": {
    "collapsed": true
   },
   "outputs": [],
   "source": [
    "import pandas as pd\n",
    "import numpy as np\n",
    "import matplotlib.pyplot as plt\n",
    "%matplotlib inline\n",
    "import seaborn as sns\n",
    "import json\n",
    "import sys\n",
    "import csv\n",
    "import os\n",
    "\n",
    "from IPython.core.interactiveshell import InteractiveShell\n",
    "InteractiveShell.ast_node_interactivity = \"all\"  # 'last_expr' "
   ]
  },
  {
   "cell_type": "code",
   "execution_count": 2,
   "metadata": {
    "collapsed": true
   },
   "outputs": [],
   "source": [
    "input_path = 'yelp_dataset/'"
   ]
  },
  {
   "cell_type": "markdown",
   "metadata": {},
   "source": [
    "Here we load the whole dataset. Since it is too big, we later use only a fraction of the data (see small_df)."
   ]
  },
  {
   "cell_type": "code",
   "execution_count": null,
   "metadata": {
    "collapsed": true
   },
   "outputs": [],
   "source": [
    "def convert(x):\n",
    "    ob = json.loads(x)\n",
    "    for k, v in ob.items():\n",
    "        if isinstance(v, list):\n",
    "            ob[k] = ','.join(v)\n",
    "        elif isinstance(v, dict):\n",
    "            for kk, vv in v.items():\n",
    "                ob['%s_%s' % (k, kk)] = vv\n",
    "            del ob[k]\n",
    "    return ob\n",
    "\n",
    "with open(input_path + 'review.json','rb') as f:\n",
    "    data = f.readlines()\n",
    "\n",
    "# this takes a while (too much data)\n",
    "review_df = pd.DataFrame([convert(line) for line in data])"
   ]
  },
  {
   "cell_type": "code",
   "execution_count": 7,
   "metadata": {},
   "outputs": [
    {
     "data": {
      "text/plain": [
       "6685900"
      ]
     },
     "execution_count": 7,
     "metadata": {},
     "output_type": "execute_result"
    },
    {
     "data": {
      "text/html": [
       "<div>\n",
       "<style>\n",
       "    .dataframe thead tr:only-child th {\n",
       "        text-align: right;\n",
       "    }\n",
       "\n",
       "    .dataframe thead th {\n",
       "        text-align: left;\n",
       "    }\n",
       "\n",
       "    .dataframe tbody tr th {\n",
       "        vertical-align: top;\n",
       "    }\n",
       "</style>\n",
       "<table border=\"1\" class=\"dataframe\">\n",
       "  <thead>\n",
       "    <tr style=\"text-align: right;\">\n",
       "      <th></th>\n",
       "      <th>business_id</th>\n",
       "      <th>cool</th>\n",
       "      <th>date</th>\n",
       "      <th>funny</th>\n",
       "      <th>review_id</th>\n",
       "      <th>stars</th>\n",
       "      <th>text</th>\n",
       "      <th>useful</th>\n",
       "      <th>user_id</th>\n",
       "    </tr>\n",
       "  </thead>\n",
       "  <tbody>\n",
       "    <tr>\n",
       "      <th>0</th>\n",
       "      <td>ujmEBvifdJM6h6RLv4wQIg</td>\n",
       "      <td>0</td>\n",
       "      <td>2013-05-07 04:34:36</td>\n",
       "      <td>1</td>\n",
       "      <td>Q1sbwvVQXV2734tPgoKj4Q</td>\n",
       "      <td>1.0</td>\n",
       "      <td>Total bill for this horrible service? Over $8G...</td>\n",
       "      <td>6</td>\n",
       "      <td>hG7b0MtEbXx5QzbzE6C_VA</td>\n",
       "    </tr>\n",
       "    <tr>\n",
       "      <th>1</th>\n",
       "      <td>NZnhc2sEQy3RmzKTZnqtwQ</td>\n",
       "      <td>0</td>\n",
       "      <td>2017-01-14 21:30:33</td>\n",
       "      <td>0</td>\n",
       "      <td>GJXCdrto3ASJOqKeVWPi6Q</td>\n",
       "      <td>5.0</td>\n",
       "      <td>I *adore* Travis at the Hard Rock's new Kelly ...</td>\n",
       "      <td>0</td>\n",
       "      <td>yXQM5uF2jS6es16SJzNHfg</td>\n",
       "    </tr>\n",
       "    <tr>\n",
       "      <th>2</th>\n",
       "      <td>WTqjgwHlXbSFevF32_DJVw</td>\n",
       "      <td>0</td>\n",
       "      <td>2016-11-09 20:09:03</td>\n",
       "      <td>0</td>\n",
       "      <td>2TzJjDVDEuAW6MR5Vuc1ug</td>\n",
       "      <td>5.0</td>\n",
       "      <td>I have to say that this office really has it t...</td>\n",
       "      <td>3</td>\n",
       "      <td>n6-Gk65cPZL6Uz8qRm3NYw</td>\n",
       "    </tr>\n",
       "    <tr>\n",
       "      <th>3</th>\n",
       "      <td>ikCg8xy5JIg_NGPx-MSIDA</td>\n",
       "      <td>0</td>\n",
       "      <td>2018-01-09 20:56:38</td>\n",
       "      <td>0</td>\n",
       "      <td>yi0R0Ugj_xUx_Nek0-_Qig</td>\n",
       "      <td>5.0</td>\n",
       "      <td>Went in for a lunch. Steak sandwich was delici...</td>\n",
       "      <td>0</td>\n",
       "      <td>dacAIZ6fTM6mqwW5uxkskg</td>\n",
       "    </tr>\n",
       "    <tr>\n",
       "      <th>4</th>\n",
       "      <td>b1b1eb3uo-w561D0ZfCEiQ</td>\n",
       "      <td>0</td>\n",
       "      <td>2018-01-30 23:07:38</td>\n",
       "      <td>0</td>\n",
       "      <td>11a8sVPMUFtaC7_ABRkmtw</td>\n",
       "      <td>1.0</td>\n",
       "      <td>Today was my second out of three sessions I ha...</td>\n",
       "      <td>7</td>\n",
       "      <td>ssoyf2_x0EQMed6fgHeMyQ</td>\n",
       "    </tr>\n",
       "  </tbody>\n",
       "</table>\n",
       "</div>"
      ],
      "text/plain": [
       "              business_id  cool                 date  funny  \\\n",
       "0  ujmEBvifdJM6h6RLv4wQIg     0  2013-05-07 04:34:36      1   \n",
       "1  NZnhc2sEQy3RmzKTZnqtwQ     0  2017-01-14 21:30:33      0   \n",
       "2  WTqjgwHlXbSFevF32_DJVw     0  2016-11-09 20:09:03      0   \n",
       "3  ikCg8xy5JIg_NGPx-MSIDA     0  2018-01-09 20:56:38      0   \n",
       "4  b1b1eb3uo-w561D0ZfCEiQ     0  2018-01-30 23:07:38      0   \n",
       "\n",
       "                review_id  stars  \\\n",
       "0  Q1sbwvVQXV2734tPgoKj4Q    1.0   \n",
       "1  GJXCdrto3ASJOqKeVWPi6Q    5.0   \n",
       "2  2TzJjDVDEuAW6MR5Vuc1ug    5.0   \n",
       "3  yi0R0Ugj_xUx_Nek0-_Qig    5.0   \n",
       "4  11a8sVPMUFtaC7_ABRkmtw    1.0   \n",
       "\n",
       "                                                text  useful  \\\n",
       "0  Total bill for this horrible service? Over $8G...       6   \n",
       "1  I *adore* Travis at the Hard Rock's new Kelly ...       0   \n",
       "2  I have to say that this office really has it t...       3   \n",
       "3  Went in for a lunch. Steak sandwich was delici...       0   \n",
       "4  Today was my second out of three sessions I ha...       7   \n",
       "\n",
       "                  user_id  \n",
       "0  hG7b0MtEbXx5QzbzE6C_VA  \n",
       "1  yXQM5uF2jS6es16SJzNHfg  \n",
       "2  n6-Gk65cPZL6Uz8qRm3NYw  \n",
       "3  dacAIZ6fTM6mqwW5uxkskg  \n",
       "4  ssoyf2_x0EQMed6fgHeMyQ  "
      ]
     },
     "execution_count": 7,
     "metadata": {},
     "output_type": "execute_result"
    }
   ],
   "source": [
    "len(review_df)\n",
    "review_df.head()"
   ]
  },
  {
   "cell_type": "code",
   "execution_count": 10,
   "metadata": {
    "collapsed": true
   },
   "outputs": [],
   "source": [
    "small_df = review_df.sample(100000, random_state=11)\n",
    "small_df.to_json('review_small.json', orient = 'columns')"
   ]
  },
  {
   "cell_type": "code",
   "execution_count": 9,
   "metadata": {
    "collapsed": true
   },
   "outputs": [],
   "source": [
    "medium_df = review_df[:1000000]\n",
    "medium_df.to_json('review_med.json', orient = 'columns')"
   ]
  },
  {
   "cell_type": "markdown",
   "metadata": {},
   "source": [
    "We work on the saved small dataset only."
   ]
  },
  {
   "cell_type": "code",
   "execution_count": 20,
   "metadata": {},
   "outputs": [
    {
     "data": {
      "text/plain": [
       "100000"
      ]
     },
     "execution_count": 20,
     "metadata": {},
     "output_type": "execute_result"
    },
    {
     "data": {
      "text/html": [
       "<div>\n",
       "<style>\n",
       "    .dataframe thead tr:only-child th {\n",
       "        text-align: right;\n",
       "    }\n",
       "\n",
       "    .dataframe thead th {\n",
       "        text-align: left;\n",
       "    }\n",
       "\n",
       "    .dataframe tbody tr th {\n",
       "        vertical-align: top;\n",
       "    }\n",
       "</style>\n",
       "<table border=\"1\" class=\"dataframe\">\n",
       "  <thead>\n",
       "    <tr style=\"text-align: right;\">\n",
       "      <th></th>\n",
       "      <th>business_id</th>\n",
       "      <th>cool</th>\n",
       "      <th>date</th>\n",
       "      <th>funny</th>\n",
       "      <th>review_id</th>\n",
       "      <th>stars</th>\n",
       "      <th>text</th>\n",
       "      <th>useful</th>\n",
       "      <th>user_id</th>\n",
       "    </tr>\n",
       "  </thead>\n",
       "  <tbody>\n",
       "    <tr>\n",
       "      <th>1000006</th>\n",
       "      <td>hX56JNZZjz_oEQbSsboHBQ</td>\n",
       "      <td>0</td>\n",
       "      <td>2018-01-04 01:08:09</td>\n",
       "      <td>0</td>\n",
       "      <td>4tu8zP8BAyTsNf5RP1l-Uw</td>\n",
       "      <td>5</td>\n",
       "      <td>Love this Medspa. I had a wonderful IPL photof...</td>\n",
       "      <td>0</td>\n",
       "      <td>8cCiGytDyiL48Ir6WI4NLQ</td>\n",
       "    </tr>\n",
       "    <tr>\n",
       "      <th>1000042</th>\n",
       "      <td>caGXS6ubNTlv91ZZyoirjQ</td>\n",
       "      <td>2</td>\n",
       "      <td>2008-10-12 19:18:53</td>\n",
       "      <td>0</td>\n",
       "      <td>B8FskbcnxMaW6hHm6dpWsg</td>\n",
       "      <td>1</td>\n",
       "      <td>All I heard when I first moved to Pittsburgh i...</td>\n",
       "      <td>1</td>\n",
       "      <td>e5O_lm2Mov6kHOka8wgvOA</td>\n",
       "    </tr>\n",
       "    <tr>\n",
       "      <th>1000165</th>\n",
       "      <td>y7Js-07RF8d3N_AEtaw2VQ</td>\n",
       "      <td>0</td>\n",
       "      <td>2015-10-15 01:23:06</td>\n",
       "      <td>0</td>\n",
       "      <td>VAVGbHr_idlRGxXABO0g1g</td>\n",
       "      <td>3</td>\n",
       "      <td>I had to come to this place because it was adv...</td>\n",
       "      <td>0</td>\n",
       "      <td>zmOdU_artMpKrG-AWYOSPQ</td>\n",
       "    </tr>\n",
       "    <tr>\n",
       "      <th>1000225</th>\n",
       "      <td>KqhvtfJITeZDVubTnMVAlg</td>\n",
       "      <td>0</td>\n",
       "      <td>2016-07-30 22:01:04</td>\n",
       "      <td>0</td>\n",
       "      <td>HqpEqva5z5LYw-1mzaraKw</td>\n",
       "      <td>5</td>\n",
       "      <td>Kenny was very efficient and dialed my car in ...</td>\n",
       "      <td>0</td>\n",
       "      <td>EmGbV1jbeKUCUm4UX6J3rg</td>\n",
       "    </tr>\n",
       "    <tr>\n",
       "      <th>100033</th>\n",
       "      <td>scoJNOqcw2peNlO31UYTaA</td>\n",
       "      <td>0</td>\n",
       "      <td>2013-05-12 01:50:22</td>\n",
       "      <td>1</td>\n",
       "      <td>yUAuey_JVSK64JtFrFr-Uw</td>\n",
       "      <td>4</td>\n",
       "      <td>$7.00 for a \"create your own\" pizza? Yes pleas...</td>\n",
       "      <td>2</td>\n",
       "      <td>vPOkQJKahhR13LQ2ElSFGg</td>\n",
       "    </tr>\n",
       "  </tbody>\n",
       "</table>\n",
       "</div>"
      ],
      "text/plain": [
       "                    business_id  cool                date  funny  \\\n",
       "1000006  hX56JNZZjz_oEQbSsboHBQ     0 2018-01-04 01:08:09      0   \n",
       "1000042  caGXS6ubNTlv91ZZyoirjQ     2 2008-10-12 19:18:53      0   \n",
       "1000165  y7Js-07RF8d3N_AEtaw2VQ     0 2015-10-15 01:23:06      0   \n",
       "1000225  KqhvtfJITeZDVubTnMVAlg     0 2016-07-30 22:01:04      0   \n",
       "100033   scoJNOqcw2peNlO31UYTaA     0 2013-05-12 01:50:22      1   \n",
       "\n",
       "                      review_id  stars  \\\n",
       "1000006  4tu8zP8BAyTsNf5RP1l-Uw      5   \n",
       "1000042  B8FskbcnxMaW6hHm6dpWsg      1   \n",
       "1000165  VAVGbHr_idlRGxXABO0g1g      3   \n",
       "1000225  HqpEqva5z5LYw-1mzaraKw      5   \n",
       "100033   yUAuey_JVSK64JtFrFr-Uw      4   \n",
       "\n",
       "                                                      text  useful  \\\n",
       "1000006  Love this Medspa. I had a wonderful IPL photof...       0   \n",
       "1000042  All I heard when I first moved to Pittsburgh i...       1   \n",
       "1000165  I had to come to this place because it was adv...       0   \n",
       "1000225  Kenny was very efficient and dialed my car in ...       0   \n",
       "100033   $7.00 for a \"create your own\" pizza? Yes pleas...       2   \n",
       "\n",
       "                        user_id  \n",
       "1000006  8cCiGytDyiL48Ir6WI4NLQ  \n",
       "1000042  e5O_lm2Mov6kHOka8wgvOA  \n",
       "1000165  zmOdU_artMpKrG-AWYOSPQ  \n",
       "1000225  EmGbV1jbeKUCUm4UX6J3rg  \n",
       "100033   vPOkQJKahhR13LQ2ElSFGg  "
      ]
     },
     "execution_count": 20,
     "metadata": {},
     "output_type": "execute_result"
    }
   ],
   "source": [
    "small_df = pd.read_json('review_small.json')\n",
    "len(small_df)\n",
    "small_df.head()"
   ]
  },
  {
   "cell_type": "code",
   "execution_count": 106,
   "metadata": {},
   "outputs": [],
   "source": [
    "data_df = small_df.reset_index(drop=True)[['text','stars']]"
   ]
  },
  {
   "cell_type": "code",
   "execution_count": 107,
   "metadata": {},
   "outputs": [],
   "source": [
    "data_df['sentiment'] = [1 if stars > 3 else 0 for stars in data_df['stars']]"
   ]
  },
  {
   "cell_type": "code",
   "execution_count": 108,
   "metadata": {},
   "outputs": [
    {
     "data": {
      "text/html": [
       "<div>\n",
       "<style>\n",
       "    .dataframe thead tr:only-child th {\n",
       "        text-align: right;\n",
       "    }\n",
       "\n",
       "    .dataframe thead th {\n",
       "        text-align: left;\n",
       "    }\n",
       "\n",
       "    .dataframe tbody tr th {\n",
       "        vertical-align: top;\n",
       "    }\n",
       "</style>\n",
       "<table border=\"1\" class=\"dataframe\">\n",
       "  <thead>\n",
       "    <tr style=\"text-align: right;\">\n",
       "      <th></th>\n",
       "      <th>text</th>\n",
       "      <th>stars</th>\n",
       "      <th>sentiment</th>\n",
       "    </tr>\n",
       "  </thead>\n",
       "  <tbody>\n",
       "    <tr>\n",
       "      <th>0</th>\n",
       "      <td>Love this Medspa. I had a wonderful IPL photofacial with great results on my face and neck last week. \\nOwner and laser tech extremely knowledgeable and experienced!\\nHighly recommend. I will certainly return for additional treatments.</td>\n",
       "      <td>5</td>\n",
       "      <td>1</td>\n",
       "    </tr>\n",
       "    <tr>\n",
       "      <th>1</th>\n",
       "      <td>All I heard when I first moved to Pittsburgh is how GREAT Primanti brothers is. Well I have eaten and two locations and they have the worst sandwiches I have eaten. EVER!\\nWhile no one can deny that french fries on a sandwich is awesome, I think we can all agree that the stale non-toasted bread and runny coleslaw make this sandwich taste like I am eating ass. \\nPrimanti brothers is a Pittsburgh staple, and Pittsburghers love \"their\" stuff, but  this is one place they should let die out.</td>\n",
       "      <td>1</td>\n",
       "      <td>0</td>\n",
       "    </tr>\n",
       "    <tr>\n",
       "      <th>2</th>\n",
       "      <td>I had to come to this place because it was advertised on Food network! What an experience!\\n\\n3 scales to weigh yourself--which I didn't partake in. You are dressed in a hospital gown as you walk in to enjoy this very caloric meal and there are posters and tvs all advertising the lack of a weight obsession makes for a happy camper.\\n\\nMy friend and I shared the single burger and onion rings. If the burgers came with the actual fillings of a typical burger--meat, cheese, lettuce, onions, tomatoes, and pickles--I might have said it was a delicious, fatty burger. But it didn't...no lettuce or pickles to take the brunt of the greasiness of the burger and to cut through, basically, all the fried grease of the onion ring as well. They didn't even have HOT SAUCE! For shame--it really needed it.\\n\\nI understand the concept--Heart Attack Grill--but STILL!!! Flavor and tartness would've have rounded up this meal in a MUCH more positive light. Also, getting the chance to order a drink out of IV lines--alas, that is a regret saved for another time. I will probably come back because the ambiance of the whole place was funky--but I will be bringing my own bottle of hot sauce next time!</td>\n",
       "      <td>3</td>\n",
       "      <td>0</td>\n",
       "    </tr>\n",
       "    <tr>\n",
       "      <th>3</th>\n",
       "      <td>Kenny was very efficient and dialed my car in tight. I will refer anyone who asks where to go for their tinting needs..... Thank you again. Fabulous job BOYS.</td>\n",
       "      <td>5</td>\n",
       "      <td>1</td>\n",
       "    </tr>\n",
       "    <tr>\n",
       "      <th>4</th>\n",
       "      <td>$7.00 for a \"create your own\" pizza? Yes please.\\n\\nThis is the only truck I havent tried that comes to the ASU Food Truck Block Party. I never see a line there, so I was helped almost immediately. I ordered my pie (the guy was super nice) and waited. About 15 minutes later, I had my pizza to-go.\\n\\nI chose the standard crust, and cheese and added Italian sausage, green peppers, and onions. The pie had a nice crust w/ bubbles (which I love). The ingredients blended nicely, and I was quite pleased w/ my creation (even the next day). My one small complaint is that the bottom of my pizza was about half burned.\\n\\nI would absolutely recommend trying this truck. Like I said, theres never a lone when they come to the block party at ASU- TAKE ADVANTAGE OF THAT!!</td>\n",
       "      <td>4</td>\n",
       "      <td>1</td>\n",
       "    </tr>\n",
       "  </tbody>\n",
       "</table>\n",
       "</div>"
      ],
      "text/plain": [
       "                                                                                                                                                                                                                                                                                                                                                                                                                                                                                                                                                                                                                                                                                                                                                                                                                                                                                                                                                                                                                                                                                                                                                                                                                                     text  \\\n",
       "0  Love this Medspa. I had a wonderful IPL photofacial with great results on my face and neck last week. \\nOwner and laser tech extremely knowledgeable and experienced!\\nHighly recommend. I will certainly return for additional treatments.                                                                                                                                                                                                                                                                                                                                                                                                                                                                                                                                                                                                                                                                                                                                                                                                                                                                                                                                                                                              \n",
       "1  All I heard when I first moved to Pittsburgh is how GREAT Primanti brothers is. Well I have eaten and two locations and they have the worst sandwiches I have eaten. EVER!\\nWhile no one can deny that french fries on a sandwich is awesome, I think we can all agree that the stale non-toasted bread and runny coleslaw make this sandwich taste like I am eating ass. \\nPrimanti brothers is a Pittsburgh staple, and Pittsburghers love \"their\" stuff, but  this is one place they should let die out.                                                                                                                                                                                                                                                                                                                                                                                                                                                                                                                                                                                                                                                                                                                              \n",
       "2  I had to come to this place because it was advertised on Food network! What an experience!\\n\\n3 scales to weigh yourself--which I didn't partake in. You are dressed in a hospital gown as you walk in to enjoy this very caloric meal and there are posters and tvs all advertising the lack of a weight obsession makes for a happy camper.\\n\\nMy friend and I shared the single burger and onion rings. If the burgers came with the actual fillings of a typical burger--meat, cheese, lettuce, onions, tomatoes, and pickles--I might have said it was a delicious, fatty burger. But it didn't...no lettuce or pickles to take the brunt of the greasiness of the burger and to cut through, basically, all the fried grease of the onion ring as well. They didn't even have HOT SAUCE! For shame--it really needed it.\\n\\nI understand the concept--Heart Attack Grill--but STILL!!! Flavor and tartness would've have rounded up this meal in a MUCH more positive light. Also, getting the chance to order a drink out of IV lines--alas, that is a regret saved for another time. I will probably come back because the ambiance of the whole place was funky--but I will be bringing my own bottle of hot sauce next time!   \n",
       "3  Kenny was very efficient and dialed my car in tight. I will refer anyone who asks where to go for their tinting needs..... Thank you again. Fabulous job BOYS.                                                                                                                                                                                                                                                                                                                                                                                                                                                                                                                                                                                                                                                                                                                                                                                                                                                                                                                                                                                                                                                                           \n",
       "4  $7.00 for a \"create your own\" pizza? Yes please.\\n\\nThis is the only truck I havent tried that comes to the ASU Food Truck Block Party. I never see a line there, so I was helped almost immediately. I ordered my pie (the guy was super nice) and waited. About 15 minutes later, I had my pizza to-go.\\n\\nI chose the standard crust, and cheese and added Italian sausage, green peppers, and onions. The pie had a nice crust w/ bubbles (which I love). The ingredients blended nicely, and I was quite pleased w/ my creation (even the next day). My one small complaint is that the bottom of my pizza was about half burned.\\n\\nI would absolutely recommend trying this truck. Like I said, theres never a lone when they come to the block party at ASU- TAKE ADVANTAGE OF THAT!!                                                                                                                                                                                                                                                                                                                                                                                                                                            \n",
       "\n",
       "   stars  sentiment  \n",
       "0  5      1          \n",
       "1  1      0          \n",
       "2  3      0          \n",
       "3  5      1          \n",
       "4  4      1          "
      ]
     },
     "execution_count": 108,
     "metadata": {},
     "output_type": "execute_result"
    }
   ],
   "source": [
    "pd.set_option('display.max_colwidth',-1)\n",
    "data_df.head()"
   ]
  },
  {
   "cell_type": "code",
   "execution_count": 109,
   "metadata": {},
   "outputs": [
    {
     "data": {
      "text/plain": [
       "text         object\n",
       "stars        int64 \n",
       "sentiment    int64 \n",
       "dtype: object"
      ]
     },
     "execution_count": 109,
     "metadata": {},
     "output_type": "execute_result"
    }
   ],
   "source": [
    "data_df.dtypes"
   ]
  },
  {
   "cell_type": "code",
   "execution_count": 110,
   "metadata": {},
   "outputs": [],
   "source": [
    "from keras.preprocessing.text import Tokenizer\n",
    "from keras.preprocessing.sequence import pad_sequences\n",
    "\n",
    "tokenizer = Tokenizer(num_words=2000) \n",
    "# default option values: filters='!\"#$%&()*+,-./:;<=>?@[\\\\]^_`{|}~\\t\\n', lower=True, split=' '\n",
    "tokenizer.fit_on_texts(data_df.text.values)"
   ]
  },
  {
   "cell_type": "code",
   "execution_count": 111,
   "metadata": {
    "collapsed": true
   },
   "outputs": [],
   "source": [
    "# Map the text tokens to integers, return the list X of integers for each text. \n",
    "# Keep only num_words most frequent words.\n",
    "X = tokenizer.texts_to_sequences(data_df.text.values) "
   ]
  },
  {
   "cell_type": "code",
   "execution_count": 118,
   "metadata": {},
   "outputs": [
    {
     "data": {
      "text/plain": [
       "([[93,\n",
       "   15,\n",
       "   3,\n",
       "   23,\n",
       "   4,\n",
       "   407,\n",
       "   14,\n",
       "   35,\n",
       "   1608,\n",
       "   20,\n",
       "   12,\n",
       "   904,\n",
       "   2,\n",
       "   199,\n",
       "   370,\n",
       "   380,\n",
       "   2,\n",
       "   1479,\n",
       "   413,\n",
       "   765,\n",
       "   2,\n",
       "   1253,\n",
       "   284,\n",
       "   138,\n",
       "   3,\n",
       "   60,\n",
       "   1097,\n",
       "   444,\n",
       "   10,\n",
       "   1275],\n",
       "  [37,\n",
       "   3,\n",
       "   647,\n",
       "   50,\n",
       "   3,\n",
       "   96,\n",
       "   685,\n",
       "   5,\n",
       "   1342,\n",
       "   9,\n",
       "   122,\n",
       "   35,\n",
       "   9,\n",
       "   83,\n",
       "   3,\n",
       "   21,\n",
       "   853,\n",
       "   2,\n",
       "   134,\n",
       "   1150,\n",
       "   2,\n",
       "   17,\n",
       "   21,\n",
       "   1,\n",
       "   509,\n",
       "   684,\n",
       "   3,\n",
       "   21,\n",
       "   853,\n",
       "   145,\n",
       "   159,\n",
       "   64,\n",
       "   46,\n",
       "   71,\n",
       "   13,\n",
       "   644,\n",
       "   248,\n",
       "   20,\n",
       "   4,\n",
       "   288,\n",
       "   9,\n",
       "   208,\n",
       "   3,\n",
       "   157,\n",
       "   16,\n",
       "   71,\n",
       "   37,\n",
       "   1640,\n",
       "   13,\n",
       "   1,\n",
       "   852,\n",
       "   329,\n",
       "   2,\n",
       "   121,\n",
       "   15,\n",
       "   288,\n",
       "   246,\n",
       "   43,\n",
       "   3,\n",
       "   144,\n",
       "   436,\n",
       "   1877,\n",
       "   9,\n",
       "   4,\n",
       "   1342,\n",
       "   2,\n",
       "   93,\n",
       "   48,\n",
       "   527,\n",
       "   18,\n",
       "   15,\n",
       "   9,\n",
       "   46,\n",
       "   30,\n",
       "   17,\n",
       "   232,\n",
       "   334,\n",
       "   1089,\n",
       "   38],\n",
       "  [3,\n",
       "   23,\n",
       "   5,\n",
       "   105,\n",
       "   5,\n",
       "   15,\n",
       "   30,\n",
       "   76,\n",
       "   8,\n",
       "   6,\n",
       "   20,\n",
       "   28,\n",
       "   62,\n",
       "   55,\n",
       "   117,\n",
       "   141,\n",
       "   5,\n",
       "   770,\n",
       "   65,\n",
       "   3,\n",
       "   97,\n",
       "   11,\n",
       "   19,\n",
       "   27,\n",
       "   11,\n",
       "   4,\n",
       "   1973,\n",
       "   32,\n",
       "   19,\n",
       "   419,\n",
       "   11,\n",
       "   5,\n",
       "   388,\n",
       "   15,\n",
       "   34,\n",
       "   203,\n",
       "   2,\n",
       "   36,\n",
       "   27,\n",
       "   2,\n",
       "   1948,\n",
       "   37,\n",
       "   1,\n",
       "   1045,\n",
       "   7,\n",
       "   4,\n",
       "   447,\n",
       "   10,\n",
       "   4,\n",
       "   207,\n",
       "   12,\n",
       "   315,\n",
       "   2,\n",
       "   3,\n",
       "   1084,\n",
       "   1,\n",
       "   875,\n",
       "   247,\n",
       "   2,\n",
       "   863,\n",
       "   1673,\n",
       "   39,\n",
       "   1,\n",
       "   606,\n",
       "   90,\n",
       "   14,\n",
       "   1,\n",
       "   1254,\n",
       "   7,\n",
       "   4,\n",
       "   984,\n",
       "   247,\n",
       "   256,\n",
       "   183,\n",
       "   1063,\n",
       "   934,\n",
       "   1383,\n",
       "   2,\n",
       "   3,\n",
       "   497,\n",
       "   21,\n",
       "   125,\n",
       "   8,\n",
       "   6,\n",
       "   4,\n",
       "   120,\n",
       "   247,\n",
       "   18,\n",
       "   8,\n",
       "   97,\n",
       "   64,\n",
       "   1063,\n",
       "   54,\n",
       "   5,\n",
       "   143,\n",
       "   1,\n",
       "   7,\n",
       "   1,\n",
       "   7,\n",
       "   1,\n",
       "   247,\n",
       "   2,\n",
       "   5,\n",
       "   452,\n",
       "   276,\n",
       "   895,\n",
       "   37,\n",
       "   1,\n",
       "   285,\n",
       "   7,\n",
       "   1,\n",
       "   863,\n",
       "   32,\n",
       "   83,\n",
       "   17,\n",
       "   97,\n",
       "   78,\n",
       "   21,\n",
       "   220,\n",
       "   180,\n",
       "   10,\n",
       "   1713,\n",
       "   8,\n",
       "   61,\n",
       "   333,\n",
       "   8,\n",
       "   3,\n",
       "   670,\n",
       "   1,\n",
       "   1531,\n",
       "   1360,\n",
       "   1140,\n",
       "   18,\n",
       "   148,\n",
       "   299,\n",
       "   2,\n",
       "   1805,\n",
       "   21,\n",
       "   52,\n",
       "   15,\n",
       "   203,\n",
       "   11,\n",
       "   4,\n",
       "   114,\n",
       "   70,\n",
       "   1229,\n",
       "   578,\n",
       "   68,\n",
       "   275,\n",
       "   1,\n",
       "   841,\n",
       "   5,\n",
       "   98,\n",
       "   4,\n",
       "   245,\n",
       "   38,\n",
       "   7,\n",
       "   1330,\n",
       "   13,\n",
       "   9,\n",
       "   4,\n",
       "   1783,\n",
       "   10,\n",
       "   173,\n",
       "   44,\n",
       "   3,\n",
       "   60,\n",
       "   289,\n",
       "   105,\n",
       "   53,\n",
       "   76,\n",
       "   1,\n",
       "   746,\n",
       "   7,\n",
       "   1,\n",
       "   386,\n",
       "   30,\n",
       "   6,\n",
       "   18,\n",
       "   3,\n",
       "   60,\n",
       "   31,\n",
       "   1696,\n",
       "   12,\n",
       "   426,\n",
       "   990,\n",
       "   7,\n",
       "   220,\n",
       "   180,\n",
       "   169,\n",
       "   44]],)"
      ]
     },
     "execution_count": 118,
     "metadata": {},
     "output_type": "execute_result"
    }
   ],
   "source": [
    "X[:3]"
   ]
  },
  {
   "cell_type": "code",
   "execution_count": 119,
   "metadata": {},
   "outputs": [
    {
     "data": {
      "text/plain": [
       "array([[   0,    0,    0, ...,  444,   10, 1275],\n",
       "       [   0,    0,    0, ...,  334, 1089,   38],\n",
       "       [   0,    0,    0, ...,  180,  169,   44]], dtype=int32)"
      ]
     },
     "execution_count": 119,
     "metadata": {},
     "output_type": "execute_result"
    }
   ],
   "source": [
    "X = pad_sequences(X)\n",
    "X[:3]"
   ]
  },
  {
   "cell_type": "code",
   "execution_count": 120,
   "metadata": {},
   "outputs": [
    {
     "data": {
      "text/plain": [
       "(100000, 941)"
      ]
     },
     "execution_count": 120,
     "metadata": {},
     "output_type": "execute_result"
    }
   ],
   "source": [
    "X.shape"
   ]
  },
  {
   "cell_type": "code",
   "execution_count": 137,
   "metadata": {},
   "outputs": [
    {
     "data": {
      "text/plain": [
       "(100000, 2)"
      ]
     },
     "execution_count": 137,
     "metadata": {},
     "output_type": "execute_result"
    }
   ],
   "source": [
    "from keras.utils import to_categorical\n",
    "\n",
    "Y = to_categorical(data_df.sentiment.values)  # -> one-hot-encoding\n",
    "Y.shape"
   ]
  },
  {
   "cell_type": "markdown",
   "metadata": {},
   "source": [
    "### The LSTM model"
   ]
  },
  {
   "cell_type": "code",
   "execution_count": 121,
   "metadata": {
    "collapsed": true
   },
   "outputs": [],
   "source": [
    "from keras.models import Sequential\n",
    "from keras.layers import Dense, Embedding, LSTM"
   ]
  },
  {
   "cell_type": "code",
   "execution_count": 125,
   "metadata": {
    "collapsed": true
   },
   "outputs": [],
   "source": [
    "embed_dim = 128\n",
    "lstm_out = 196"
   ]
  },
  {
   "cell_type": "code",
   "execution_count": 147,
   "metadata": {},
   "outputs": [],
   "source": [
    "model = Sequential()\n",
    "model.add(Embedding(2000, embed_dim, input_length = X.shape[1], name ='embedding_1'))\n",
    "model.add(LSTM(lstm_out, dropout=0.2, recurrent_dropout=0.2, name='lstm_1'))\n",
    "model.add(Dense(2, activation='softmax', name='dense_1'))\n",
    "\n",
    "model.compile(optimizer='adam', loss='categorical_crossentropy', metrics =['accuracy'])"
   ]
  },
  {
   "cell_type": "code",
   "execution_count": 148,
   "metadata": {},
   "outputs": [
    {
     "name": "stdout",
     "output_type": "stream",
     "text": [
      "_________________________________________________________________\n",
      "Layer (type)                 Output Shape              Param #   \n",
      "=================================================================\n",
      "embedding_1 (Embedding)      (None, 941, 128)          256000    \n",
      "_________________________________________________________________\n",
      "lstm_1 (LSTM)                (None, 196)               254800    \n",
      "_________________________________________________________________\n",
      "dense_1 (Dense)              (None, 2)                 394       \n",
      "=================================================================\n",
      "Total params: 511,194\n",
      "Trainable params: 511,194\n",
      "Non-trainable params: 0\n",
      "_________________________________________________________________\n"
     ]
    }
   ],
   "source": [
    "model.summary()"
   ]
  },
  {
   "cell_type": "code",
   "execution_count": 149,
   "metadata": {},
   "outputs": [
    {
     "name": "stdout",
     "output_type": "stream",
     "text": [
      "[(80000, 941), (80000, 2), (20000, 941), (20000, 2)]\n"
     ]
    }
   ],
   "source": [
    "from sklearn.model_selection import train_test_split\n",
    "\n",
    "X_train, X_test, Y_train, Y_test = train_test_split(X, Y, test_size=0.2, random_state=11)\n",
    "\n",
    "print([E.shape for E in [X_train, Y_train, X_test, Y_test]])"
   ]
  },
  {
   "cell_type": "code",
   "execution_count": 150,
   "metadata": {},
   "outputs": [
    {
     "name": "stdout",
     "output_type": "stream",
     "text": [
      "Epoch 1/1\n",
      "80000/80000 [==============================] - 6239s 78ms/step - loss: 0.3717 - acc: 0.8397\n"
     ]
    },
    {
     "data": {
      "text/plain": [
       "<keras.callbacks.History at 0x1a3332c2e8>"
      ]
     },
     "execution_count": 150,
     "metadata": {},
     "output_type": "execute_result"
    }
   ],
   "source": [
    "batch_size = 32\n",
    "epochs = 1\n",
    "\n",
    "model.fit(X_train, Y_train, batch_size = batch_size, epochs=epochs, verbose=1)"
   ]
  },
  {
   "cell_type": "code",
   "execution_count": 151,
   "metadata": {
    "collapsed": true
   },
   "outputs": [],
   "source": [
    "model.save('LSTM_binary_clf_model.h5')"
   ]
  },
  {
   "cell_type": "code",
   "execution_count": 152,
   "metadata": {},
   "outputs": [
    {
     "name": "stdout",
     "output_type": "stream",
     "text": [
      "20000/20000 [==============================] - 329s 16ms/step\n"
     ]
    }
   ],
   "source": [
    "loss, acc = model.evaluate(X_test, Y_test, batch_size=batch_size)"
   ]
  },
  {
   "cell_type": "code",
   "execution_count": 153,
   "metadata": {},
   "outputs": [
    {
     "name": "stdout",
     "output_type": "stream",
     "text": [
      "Test loss: 0.26389781827926634 \n",
      "Test accuracy: 0.89275\n"
     ]
    }
   ],
   "source": [
    "print(\"Test loss: {} \\nTest accuracy: {}\".format(loss,acc))"
   ]
  },
  {
   "cell_type": "markdown",
   "metadata": {},
   "source": [
    "89% accuracy with a single training epoch! LSTM is rather impressive."
   ]
  },
  {
   "cell_type": "code",
   "execution_count": null,
   "metadata": {
    "collapsed": true
   },
   "outputs": [],
   "source": []
  }
 ],
 "metadata": {
  "kernelspec": {
   "display_name": "Python 3",
   "language": "python",
   "name": "python3"
  },
  "language_info": {
   "codemirror_mode": {
    "name": "ipython",
    "version": 3
   },
   "file_extension": ".py",
   "mimetype": "text/x-python",
   "name": "python",
   "nbconvert_exporter": "python",
   "pygments_lexer": "ipython3",
   "version": "3.6.8"
  }
 },
 "nbformat": 4,
 "nbformat_minor": 2
}
